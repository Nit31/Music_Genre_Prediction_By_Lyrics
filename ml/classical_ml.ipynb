{
 "cells": [
  {
   "cell_type": "code",
   "id": "initial_id",
   "metadata": {
    "collapsed": true,
    "ExecuteTime": {
     "end_time": "2024-04-10T10:42:37.541858Z",
     "start_time": "2024-04-10T10:42:37.539501Z"
    }
   },
   "source": [
    "import numpy as np\n",
    "import pandas\n",
    "import pandas as pd\n",
    "import matplotlib.pyplot as plt\n",
    "import seaborn as sns\n",
    "from sklearn.metrics import classification_report"
   ],
   "outputs": [],
   "execution_count": 26
  },
  {
   "metadata": {},
   "cell_type": "markdown",
   "source": "## Read df and preprocess",
   "id": "cb37c88d12a395bc"
  },
  {
   "metadata": {
    "ExecuteTime": {
     "end_time": "2024-04-10T10:21:06.982173Z",
     "start_time": "2024-04-10T10:21:06.717205Z"
    }
   },
   "cell_type": "code",
   "source": [
    "df = pd.read_csv('short.csv')\n",
    "df.head()"
   ],
   "id": "6b3d0be1295e6e2c",
   "outputs": [
    {
     "data": {
      "text/plain": [
       "                                                text    tag\n",
       "0  How can you see into my eyes like open doors ?...  metal\n",
       "1  I'm so tired of being here Suppressed by all m...  metal\n",
       "2  Another head hangs lowly Child is slowly taken...  metal\n",
       "3  Before the story begins Is it such a sin For m...  metal\n",
       "4  Remember when Hell had frozen over ? The cold ...  metal"
      ],
      "text/html": [
       "<div>\n",
       "<style scoped>\n",
       "    .dataframe tbody tr th:only-of-type {\n",
       "        vertical-align: middle;\n",
       "    }\n",
       "\n",
       "    .dataframe tbody tr th {\n",
       "        vertical-align: top;\n",
       "    }\n",
       "\n",
       "    .dataframe thead th {\n",
       "        text-align: right;\n",
       "    }\n",
       "</style>\n",
       "<table border=\"1\" class=\"dataframe\">\n",
       "  <thead>\n",
       "    <tr style=\"text-align: right;\">\n",
       "      <th></th>\n",
       "      <th>text</th>\n",
       "      <th>tag</th>\n",
       "    </tr>\n",
       "  </thead>\n",
       "  <tbody>\n",
       "    <tr>\n",
       "      <th>0</th>\n",
       "      <td>How can you see into my eyes like open doors ?...</td>\n",
       "      <td>metal</td>\n",
       "    </tr>\n",
       "    <tr>\n",
       "      <th>1</th>\n",
       "      <td>I'm so tired of being here Suppressed by all m...</td>\n",
       "      <td>metal</td>\n",
       "    </tr>\n",
       "    <tr>\n",
       "      <th>2</th>\n",
       "      <td>Another head hangs lowly Child is slowly taken...</td>\n",
       "      <td>metal</td>\n",
       "    </tr>\n",
       "    <tr>\n",
       "      <th>3</th>\n",
       "      <td>Before the story begins Is it such a sin For m...</td>\n",
       "      <td>metal</td>\n",
       "    </tr>\n",
       "    <tr>\n",
       "      <th>4</th>\n",
       "      <td>Remember when Hell had frozen over ? The cold ...</td>\n",
       "      <td>metal</td>\n",
       "    </tr>\n",
       "  </tbody>\n",
       "</table>\n",
       "</div>"
      ]
     },
     "execution_count": 3,
     "metadata": {},
     "output_type": "execute_result"
    }
   ],
   "execution_count": 3
  },
  {
   "metadata": {
    "ExecuteTime": {
     "end_time": "2024-04-10T10:21:11.394063Z",
     "start_time": "2024-04-10T10:21:11.391884Z"
    }
   },
   "cell_type": "code",
   "source": "df.shape",
   "id": "710d907afcbfb9f9",
   "outputs": [
    {
     "data": {
      "text/plain": [
       "(25000, 2)"
      ]
     },
     "execution_count": 5,
     "metadata": {},
     "output_type": "execute_result"
    }
   ],
   "execution_count": 5
  },
  {
   "metadata": {
    "ExecuteTime": {
     "end_time": "2024-04-10T10:21:14.366003Z",
     "start_time": "2024-04-10T10:21:14.358350Z"
    }
   },
   "cell_type": "code",
   "source": [
    "df = df[['text', 'tag']]\n",
    "df.columns = ['lyrics', 'genre']\n",
    "df.head()"
   ],
   "id": "4c3608a8d67e8598",
   "outputs": [
    {
     "data": {
      "text/plain": [
       "                                              lyrics  genre\n",
       "0  How can you see into my eyes like open doors ?...  metal\n",
       "1  I'm so tired of being here Suppressed by all m...  metal\n",
       "2  Another head hangs lowly Child is slowly taken...  metal\n",
       "3  Before the story begins Is it such a sin For m...  metal\n",
       "4  Remember when Hell had frozen over ? The cold ...  metal"
      ],
      "text/html": [
       "<div>\n",
       "<style scoped>\n",
       "    .dataframe tbody tr th:only-of-type {\n",
       "        vertical-align: middle;\n",
       "    }\n",
       "\n",
       "    .dataframe tbody tr th {\n",
       "        vertical-align: top;\n",
       "    }\n",
       "\n",
       "    .dataframe thead th {\n",
       "        text-align: right;\n",
       "    }\n",
       "</style>\n",
       "<table border=\"1\" class=\"dataframe\">\n",
       "  <thead>\n",
       "    <tr style=\"text-align: right;\">\n",
       "      <th></th>\n",
       "      <th>lyrics</th>\n",
       "      <th>genre</th>\n",
       "    </tr>\n",
       "  </thead>\n",
       "  <tbody>\n",
       "    <tr>\n",
       "      <th>0</th>\n",
       "      <td>How can you see into my eyes like open doors ?...</td>\n",
       "      <td>metal</td>\n",
       "    </tr>\n",
       "    <tr>\n",
       "      <th>1</th>\n",
       "      <td>I'm so tired of being here Suppressed by all m...</td>\n",
       "      <td>metal</td>\n",
       "    </tr>\n",
       "    <tr>\n",
       "      <th>2</th>\n",
       "      <td>Another head hangs lowly Child is slowly taken...</td>\n",
       "      <td>metal</td>\n",
       "    </tr>\n",
       "    <tr>\n",
       "      <th>3</th>\n",
       "      <td>Before the story begins Is it such a sin For m...</td>\n",
       "      <td>metal</td>\n",
       "    </tr>\n",
       "    <tr>\n",
       "      <th>4</th>\n",
       "      <td>Remember when Hell had frozen over ? The cold ...</td>\n",
       "      <td>metal</td>\n",
       "    </tr>\n",
       "  </tbody>\n",
       "</table>\n",
       "</div>"
      ]
     },
     "execution_count": 6,
     "metadata": {},
     "output_type": "execute_result"
    }
   ],
   "execution_count": 6
  },
  {
   "metadata": {
    "ExecuteTime": {
     "end_time": "2024-04-10T10:21:16.805327Z",
     "start_time": "2024-04-10T10:21:16.673616Z"
    }
   },
   "cell_type": "code",
   "source": [
    "from sklearn.model_selection import train_test_split\n",
    "\n",
    "train_df, test_df = train_test_split(df, test_size=0.2, random_state=42)"
   ],
   "id": "a8b832803c219aad",
   "outputs": [],
   "execution_count": 7
  },
  {
   "metadata": {
    "ExecuteTime": {
     "end_time": "2024-04-10T10:22:10.604855Z",
     "start_time": "2024-04-10T10:21:16.996498Z"
    }
   },
   "cell_type": "code",
   "source": [
    "# Remove stop words\n",
    "from nltk.corpus import stopwords\n",
    "from nltk.tokenize import word_tokenize\n",
    "from nltk.stem import PorterStemmer\n",
    "import string\n",
    "\n",
    "stop_words = set(stopwords.words('english'))\n",
    "stemmer = PorterStemmer()\n",
    "\n",
    "def preprocess_text(text):\n",
    "    text = text.lower()\n",
    "    text = word_tokenize(text)\n",
    "    text = [stemmer.stem(word) for word in text if word not in stop_words and word not in string.punctuation and len(word)]\n",
    "    return ' '.join(text)\n",
    "\n",
    "train_df['lyrics'] = train_df['lyrics'].apply(preprocess_text)\n",
    "test_df['lyrics'] = test_df['lyrics'].apply(preprocess_text)"
   ],
   "id": "87ab87143ff0387f",
   "outputs": [],
   "execution_count": 8
  },
  {
   "metadata": {
    "ExecuteTime": {
     "end_time": "2024-04-10T10:22:21.251463Z",
     "start_time": "2024-04-10T10:22:19.491406Z"
    }
   },
   "cell_type": "code",
   "source": [
    "# Apply tf idf on feature (lyrics)\n",
    "from sklearn.feature_extraction.text import TfidfVectorizer\n",
    "tfidf = TfidfVectorizer(stop_words='english', max_df=0.7, min_df=0.0001)\n",
    "X_train = tfidf.fit_transform(train_df['lyrics'])\n",
    "X_test = tfidf.transform(test_df['lyrics'])\n",
    "X_train.shape"
   ],
   "id": "141e1c212e798559",
   "outputs": [
    {
     "data": {
      "text/plain": [
       "(20000, 45590)"
      ]
     },
     "execution_count": 10,
     "metadata": {},
     "output_type": "execute_result"
    }
   ],
   "execution_count": 10
  },
  {
   "metadata": {
    "ExecuteTime": {
     "end_time": "2024-04-10T10:22:26.198458Z",
     "start_time": "2024-04-10T10:22:26.196334Z"
    }
   },
   "cell_type": "code",
   "source": [
    "# # n-grams bag of words\n",
    "# from sklearn.feature_extraction.text import CountVectorizer\n",
    "# cv = CountVectorizer(ngram_range=(1, 2))\n",
    "# X_train = cv.fit_transform(train_df['lyrics'])\n",
    "# X_test = cv.transform(test_df['lyrics'])\n",
    "# X_train.shape"
   ],
   "id": "d6e7bd4e508002",
   "outputs": [],
   "execution_count": 11
  },
  {
   "metadata": {
    "ExecuteTime": {
     "end_time": "2024-04-10T10:22:27.406686Z",
     "start_time": "2024-04-10T10:22:27.397513Z"
    }
   },
   "cell_type": "code",
   "source": [
    "# Encode target\n",
    "from sklearn.preprocessing import OrdinalEncoder\n",
    "\n",
    "encoder = OrdinalEncoder()\n",
    "y_train = encoder.fit_transform(train_df[['genre']]).ravel()\n",
    "y_test = encoder.transform(test_df[['genre']]).ravel()\n",
    "y_train.shape"
   ],
   "id": "d03975c656c6344a",
   "outputs": [
    {
     "data": {
      "text/plain": [
       "(20000,)"
      ]
     },
     "execution_count": 12,
     "metadata": {},
     "output_type": "execute_result"
    }
   ],
   "execution_count": 12
  },
  {
   "metadata": {},
   "cell_type": "markdown",
   "source": "## Classical ML models",
   "id": "9ece6341a1c88817"
  },
  {
   "metadata": {
    "ExecuteTime": {
     "end_time": "2024-04-10T10:56:38.038158Z",
     "start_time": "2024-04-10T10:56:38.034147Z"
    }
   },
   "cell_type": "code",
   "source": [
    "# classification report\n",
    "\n",
    "def create_report(y_test, y_pred, name):\n",
    "    cr = pd.DataFrame(classification_report(y_test, y_pred, target_names=encoder.categories_[0], output_dict=True)).T\n",
    "    cr = cr.loc[['metal', 'pop', 'rap', 'rb', 'rock']]\n",
    "    # only f1 score\n",
    "    cr = pd.DataFrame(cr.loc[:, 'f1-score'])\n",
    "    # rename column f1-score to logreg\n",
    "    cr = cr.rename(columns={'f1-score': f'{name}'})\n",
    "    # transpose\n",
    "    cr = cr.T\n",
    "    # rename row\n",
    "    return cr"
   ],
   "id": "557945d27f3b0e11",
   "outputs": [],
   "execution_count": 64
  },
  {
   "metadata": {
    "ExecuteTime": {
     "end_time": "2024-04-10T10:56:38.530708Z",
     "start_time": "2024-04-10T10:56:38.527519Z"
    }
   },
   "cell_type": "code",
   "source": "metrics = pd.DataFrame()",
   "id": "3730bf609fa40b1e",
   "outputs": [],
   "execution_count": 65
  },
  {
   "metadata": {
    "ExecuteTime": {
     "end_time": "2024-04-10T10:56:39.282785Z",
     "start_time": "2024-04-10T10:56:38.943767Z"
    }
   },
   "cell_type": "code",
   "source": [
    "from sklearn.linear_model import SGDClassifier\n",
    "from sklearn.metrics import accuracy_score, f1_score, recall_score\n",
    "\n",
    "model = SGDClassifier(n_jobs=-1)\n",
    "model.fit(X_train, y_train)\n",
    "y_pred = model.predict(X_test)\n",
    "accuracy_score(y_test, y_pred), f1_score(y_test, y_pred, average='weighted'), recall_score(y_test, y_pred, average='weighted')\n",
    "\n",
    "metrics = pd.concat([metrics, create_report(y_test, y_pred, 'SGD')])"
   ],
   "id": "6edf316694879bd2",
   "outputs": [],
   "execution_count": 66
  },
  {
   "metadata": {
    "ExecuteTime": {
     "end_time": "2024-04-10T10:57:22.649601Z",
     "start_time": "2024-04-10T10:57:16.543664Z"
    }
   },
   "cell_type": "code",
   "source": [
    "from sklearn.linear_model import LogisticRegression\n",
    "from sklearn.metrics import accuracy_score, f1_score, recall_score\n",
    "\n",
    "model = LogisticRegression(max_iter=1000, n_jobs=-1)\n",
    "model.fit(X_train, y_train)\n",
    "y_pred = model.predict(X_test)\n",
    "accuracy_score(y_test, y_pred), f1_score(y_test, y_pred, average='weighted'), recall_score(y_test, y_pred, average='weighted')\n",
    "\n",
    "metrics = pd.concat([metrics, create_report(y_test, y_pred, 'LogReg')])"
   ],
   "id": "396f7da4c154e2dc",
   "outputs": [],
   "execution_count": 69
  },
  {
   "metadata": {
    "ExecuteTime": {
     "end_time": "2024-04-10T10:57:34.720505Z",
     "start_time": "2024-04-10T10:57:22.651182Z"
    }
   },
   "cell_type": "code",
   "source": [
    "from sklearn.tree import DecisionTreeClassifier\n",
    "from sklearn.metrics import accuracy_score, f1_score, recall_score\n",
    "\n",
    "model = DecisionTreeClassifier()\n",
    "model.fit(X_train, y_train)\n",
    "y_pred = model.predict(X_test)\n",
    "accuracy_score(y_test, y_pred), f1_score(y_test, y_pred, average='weighted'), recall_score(y_test, y_pred, average='weighted')\n",
    "\n",
    "metrics = pd.concat([metrics, create_report(y_test, y_pred, 'DecTree')])"
   ],
   "id": "13cd727e817c9d60",
   "outputs": [],
   "execution_count": 70
  },
  {
   "metadata": {
    "ExecuteTime": {
     "end_time": "2024-04-10T10:58:58.256865Z",
     "start_time": "2024-04-10T10:57:34.721085Z"
    }
   },
   "cell_type": "code",
   "source": [
    "from sklearn.neighbors import KNeighborsClassifier\n",
    "from sklearn.metrics import accuracy_score, f1_score, recall_score\n",
    "\n",
    "model = KNeighborsClassifier(n_jobs=-1)\n",
    "model.fit(X_train, y_train)\n",
    "y_pred = model.predict(X_test)\n",
    "accuracy_score(y_test, y_pred), f1_score(y_test, y_pred, average='weighted'), recall_score(y_test, y_pred, average='weighted')\n",
    "\n",
    "metrics = pd.concat([metrics, create_report(y_test, y_pred, 'KNN')])"
   ],
   "id": "7d7f0917d8f8eda5",
   "outputs": [],
   "execution_count": 71
  },
  {
   "metadata": {
    "ExecuteTime": {
     "end_time": "2024-04-10T10:59:02.458995Z",
     "start_time": "2024-04-10T10:58:58.257698Z"
    }
   },
   "cell_type": "code",
   "source": [
    "from sklearn.ensemble import RandomForestClassifier\n",
    "from sklearn.metrics import accuracy_score, f1_score, recall_score\n",
    "\n",
    "model = RandomForestClassifier(n_jobs=-1)\n",
    "model.fit(X_train, y_train)\n",
    "y_pred = model.predict(X_test)\n",
    "accuracy_score(y_test, y_pred), f1_score(y_test, y_pred, average='weighted'), recall_score(y_test, y_pred, average='weighted')\n",
    "\n",
    "metrics = pd.concat([metrics, create_report(y_test, y_pred, 'RandFor')])"
   ],
   "id": "a8c965fc85b946f4",
   "outputs": [],
   "execution_count": 72
  },
  {
   "metadata": {
    "ExecuteTime": {
     "end_time": "2024-04-10T11:02:08.874773Z",
     "start_time": "2024-04-10T10:59:02.459600Z"
    }
   },
   "cell_type": "code",
   "source": [
    "# gradient boosting\n",
    "from sklearn.ensemble import GradientBoostingClassifier\n",
    "from sklearn.metrics import accuracy_score, f1_score, recall_score\n",
    "\n",
    "model = GradientBoostingClassifier()\n",
    "model.fit(X_train, y_train)\n",
    "y_pred = model.predict(X_test)\n",
    "accuracy_score(y_test, y_pred), f1_score(y_test, y_pred, average='weighted'), recall_score(y_test, y_pred, average='weighted')\n",
    "\n",
    "metrics = pd.concat([metrics, create_report(y_test, y_pred, 'GradBoost')])"
   ],
   "id": "b3ae850a82e7df83",
   "outputs": [],
   "execution_count": 73
  },
  {
   "metadata": {
    "ExecuteTime": {
     "end_time": "2024-04-10T11:02:08.881893Z",
     "start_time": "2024-04-10T11:02:08.876161Z"
    }
   },
   "cell_type": "code",
   "source": "metrics",
   "id": "b3908c8be9311578",
   "outputs": [
    {
     "data": {
      "text/plain": [
       "              metal       pop       rap        rb      rock\n",
       "SGD        0.784021  0.488360  0.766776  0.575294  0.570450\n",
       "LogReg     0.799814  0.509498  0.779609  0.608840  0.575906\n",
       "DecTree    0.596071  0.363905  0.661818  0.477215  0.390633\n",
       "KNN        0.321908  0.347975  0.349544  0.428476  0.119454\n",
       "RandFor    0.759316  0.503213  0.794481  0.560453  0.525424\n",
       "GradBoost  0.755412  0.497024  0.795144  0.598532  0.546247"
      ],
      "text/html": [
       "<div>\n",
       "<style scoped>\n",
       "    .dataframe tbody tr th:only-of-type {\n",
       "        vertical-align: middle;\n",
       "    }\n",
       "\n",
       "    .dataframe tbody tr th {\n",
       "        vertical-align: top;\n",
       "    }\n",
       "\n",
       "    .dataframe thead th {\n",
       "        text-align: right;\n",
       "    }\n",
       "</style>\n",
       "<table border=\"1\" class=\"dataframe\">\n",
       "  <thead>\n",
       "    <tr style=\"text-align: right;\">\n",
       "      <th></th>\n",
       "      <th>metal</th>\n",
       "      <th>pop</th>\n",
       "      <th>rap</th>\n",
       "      <th>rb</th>\n",
       "      <th>rock</th>\n",
       "    </tr>\n",
       "  </thead>\n",
       "  <tbody>\n",
       "    <tr>\n",
       "      <th>SGD</th>\n",
       "      <td>0.784021</td>\n",
       "      <td>0.488360</td>\n",
       "      <td>0.766776</td>\n",
       "      <td>0.575294</td>\n",
       "      <td>0.570450</td>\n",
       "    </tr>\n",
       "    <tr>\n",
       "      <th>LogReg</th>\n",
       "      <td>0.799814</td>\n",
       "      <td>0.509498</td>\n",
       "      <td>0.779609</td>\n",
       "      <td>0.608840</td>\n",
       "      <td>0.575906</td>\n",
       "    </tr>\n",
       "    <tr>\n",
       "      <th>DecTree</th>\n",
       "      <td>0.596071</td>\n",
       "      <td>0.363905</td>\n",
       "      <td>0.661818</td>\n",
       "      <td>0.477215</td>\n",
       "      <td>0.390633</td>\n",
       "    </tr>\n",
       "    <tr>\n",
       "      <th>KNN</th>\n",
       "      <td>0.321908</td>\n",
       "      <td>0.347975</td>\n",
       "      <td>0.349544</td>\n",
       "      <td>0.428476</td>\n",
       "      <td>0.119454</td>\n",
       "    </tr>\n",
       "    <tr>\n",
       "      <th>RandFor</th>\n",
       "      <td>0.759316</td>\n",
       "      <td>0.503213</td>\n",
       "      <td>0.794481</td>\n",
       "      <td>0.560453</td>\n",
       "      <td>0.525424</td>\n",
       "    </tr>\n",
       "    <tr>\n",
       "      <th>GradBoost</th>\n",
       "      <td>0.755412</td>\n",
       "      <td>0.497024</td>\n",
       "      <td>0.795144</td>\n",
       "      <td>0.598532</td>\n",
       "      <td>0.546247</td>\n",
       "    </tr>\n",
       "  </tbody>\n",
       "</table>\n",
       "</div>"
      ]
     },
     "execution_count": 74,
     "metadata": {},
     "output_type": "execute_result"
    }
   ],
   "execution_count": 74
  },
  {
   "metadata": {
    "ExecuteTime": {
     "end_time": "2024-04-10T11:02:08.901557Z",
     "start_time": "2024-04-10T11:02:08.882917Z"
    }
   },
   "cell_type": "code",
   "source": "metrics.to_csv('eda/metrics.csv')",
   "id": "f5b3bdfa3eb4134f",
   "outputs": [],
   "execution_count": 75
  },
  {
   "metadata": {
    "ExecuteTime": {
     "end_time": "2024-04-10T10:57:02.320422Z",
     "start_time": "2024-04-10T10:57:02.142004Z"
    }
   },
   "cell_type": "code",
   "source": [
    "import seaborn as sns\n",
    "from sklearn.metrics import confusion_matrix\n",
    "\n",
    "cm = confusion_matrix(y_test, y_pred)\n",
    "plt.figure(figsize=(10, 7))\n",
    "sns.heatmap(cm, annot=True, fmt='d', xticklabels=encoder.categories_[0], yticklabels=encoder.categories_[0])\n",
    "plt.xlabel('Predicted')\n",
    "plt.ylabel('Truth')\n",
    "plt.show()\n"
   ],
   "id": "398daa9b780a50a6",
   "outputs": [
    {
     "data": {
      "text/plain": [
       "<Figure size 1000x700 with 2 Axes>"
      ],
      "image/png": "[encoded data removed]"
     },
     "metadata": {},
     "output_type": "display_data"
    }
   ],
   "execution_count": 68
  }
 ],
 "metadata": {
  "kernelspec": {
   "display_name": "Python 3",
   "language": "python",
   "name": "python3"
  },
  "language_info": {
   "codemirror_mode": {
    "name": "ipython",
    "version": 2
   },
   "file_extension": ".py",
   "mimetype": "text/x-python",
   "name": "python",
   "nbconvert_exporter": "python",
   "pygments_lexer": "ipython2",
   "version": "2.7.6"
  }
 },
 "nbformat": 4,
 "nbformat_minor": 5
}
